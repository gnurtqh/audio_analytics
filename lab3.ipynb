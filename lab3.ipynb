{
  "nbformat": 4,
  "nbformat_minor": 0,
  "metadata": {
    "colab": {
      "provenance": [],
      "collapsed_sections": [
        "zZN6jee2KZCA"
      ],
      "toc_visible": true,
      "include_colab_link": true
    },
    "kernelspec": {
      "name": "python3",
      "display_name": "Python 3"
    },
    "language_info": {
      "name": "python"
    },
    "accelerator": "GPU",
    "gpuClass": "standard"
  },
  "cells": [
    {
      "cell_type": "markdown",
      "metadata": {
        "id": "view-in-github",
        "colab_type": "text"
      },
      "source": [
        "<a href=\"https://colab.research.google.com/github/gnurtqh/audio_analytics/blob/master/lab3.ipynb\" target=\"_parent\"><img src=\"https://colab.research.google.com/assets/colab-badge.svg\" alt=\"Open In Colab\"/></a>"
      ]
    },
    {
      "cell_type": "markdown",
      "source": [
        "# Аудиоаналитика\n",
        "Лабораторная работа №3: ED-CNN\n",
        "\n",
        "Студент: ХО КУАНГ ЧУНГ\n",
        "\n",
        "**Задание:**\n",
        "Изменить в коде хотя бы два (можно больше) момента, которые теоретически, должны улучшить результат. Можно выбирать из этого:\n",
        "1. Частота дискретизации (вместе с этим можно попробовать увеличить количество мелов, но будет считаться за одно) Учтите, что при изменении частоты, изменится и размеры спектрограмм. Чтобы взять 2 секунды звука, нужно будет уже брать не 64 отсчета в спектрограмме.\n",
        "2. Изменить количество секунд, на котором обучаемся.\n",
        "3. Добавить выбор случайного кусочка звука в EventDetectionDataset в функции getitem() (это должно сделать результат гораздо лучше)\n",
        "4. Изменить optimizer на Adam\n",
        "5. Изменить train/val разбиение\n",
        "6. Добавить новый полносвязный и/или сверточный слой в класс модели рекомендую еще увеличить количество эпох, так как моя модель, скорее всего, не доучилась\n",
        "___\n",
        "\n",
        "**Описание работы:**\n",
        "1. Частота дискретизации = 16000, количество мелов = 128\n",
        "2. Размер во времени = 128. Количество секунд = [(128-1)*1024/4]/16000 = 2.032 сек\n",
        "3. Добавил выбор случайного кусочка звука\n",
        "4. Изменил optimizer на Adam\n",
        "5. Изменил train/val разбиение (4883/800 -> 5283/400)\n",
        "6. Добавил новый полносвязный слой в класс модели."
      ],
      "metadata": {
        "id": "0K4K5mCPKf2-"
      }
    },
    {
      "cell_type": "markdown",
      "source": [
        "## Импорт библиотек"
      ],
      "metadata": {
        "id": "zZN6jee2KZCA"
      }
    },
    {
      "cell_type": "code",
      "source": [
        "import os.path as path\n",
        "import zipfile\n",
        "import io\n",
        "from scipy.io import wavfile\n",
        "import pandas as pd\n",
        "import os\n",
        "import random\n",
        "import matplotlib.pyplot as plt\n",
        "from IPython.display import Audio\n",
        "import pickle\n",
        "from enum import Enum\n",
        "from typing import NoReturn, Optional\n",
        "from tqdm import tqdm\n",
        "import numpy as np\n",
        "import librosa\n",
        "import librosa.feature as F"
      ],
      "metadata": {
        "id": "04qYh79-_1jU"
      },
      "execution_count": 140,
      "outputs": []
    },
    {
      "cell_type": "markdown",
      "source": [
        "## Общая инициализация"
      ],
      "metadata": {
        "id": "5RwABWsPKniE"
      }
    },
    {
      "cell_type": "markdown",
      "source": [
        "### Путь к каталогу, в котором лежит датасет\n",
        "> датасет представлен файлом `train.csv` и папкой `train`"
      ],
      "metadata": {
        "id": "KpNLlSTMKs--"
      }
    },
    {
      "cell_type": "code",
      "execution_count": 141,
      "metadata": {
        "id": "90kreG_7KRjA"
      },
      "outputs": [],
      "source": [
        "# from google.colab import drive\n",
        "# drive.mount('/content/drive')"
      ]
    },
    {
      "cell_type": "code",
      "source": [
        "base_folder = \"/content/drive/MyDrive/lab\""
      ],
      "metadata": {
        "id": "HGL1JAXfLMGU"
      },
      "execution_count": 142,
      "outputs": []
    },
    {
      "cell_type": "code",
      "source": [
        "train_folder = path.join(base_folder, \"train\")\n",
        "train_csv = path.join(base_folder, \"train.csv\")\n",
        "train_pickle = path.join(base_folder, \"train.pickle\")\n",
        "labels_pickle = path.join(base_folder, \"labels.pickle\")"
      ],
      "metadata": {
        "id": "3wGfVEo0LE_3"
      },
      "execution_count": 143,
      "outputs": []
    },
    {
      "cell_type": "markdown",
      "source": [
        "## Извлечение признаков"
      ],
      "metadata": {
        "id": "zWfes8p3LuXl"
      }
    },
    {
      "cell_type": "markdown",
      "source": [
        "**Функция для извлечения признаков и сохранения на диск**"
      ],
      "metadata": {
        "id": "5Ya52iuPJJIN"
      }
    },
    {
      "cell_type": "code",
      "source": [
        "class SetType(Enum):\n",
        "    \"\"\"Set type\"\"\"\n",
        "    TRAIN = 1\n",
        "    TEST  = 2\n",
        "    DEV   = 3\n",
        "\n",
        "def extract_log_mel_feats(set_type:SetType, path_to_csv:str, path_to_files:str,\n",
        "                          out_path:str, labels_pickle:str, sr:Optional[int], n_fft:int,\n",
        "                          hop_length:int, n_mels:int) -> Optional[dict[str,int]]:\n",
        "    \"\"\"\n",
        "    Extract features from given files and store them in binary format.\n",
        "\n",
        "    :param set_type: set tyle\n",
        "    :param path_to_csv: path to loaded csv\n",
        "    :param path_to_files: path to loaded data\n",
        "    :param out_path: path to store extracted features\n",
        "    :param labels_pickle: path to store labels dictionary\n",
        "    :param sr: input files sample rate\n",
        "    :param n_fft: size of fft window\n",
        "    :param hop_length: hop size\n",
        "    :param n_mels: number of mel band\n",
        "\n",
        "    :return:\n",
        "    \"\"\"\n",
        "    if set_type not in [SetType.TRAIN, SetType.TEST]:\n",
        "        raise Exception(f'Such set type not supported: {set_type}')\n",
        "\n",
        "    feats = []\n",
        "\n",
        "    if set_type == SetType.TRAIN:\n",
        "        meta = pd.read_csv(path_to_csv, skiprows=1, names=['fname', 'label'])\n",
        "\n",
        "        file_names = list(meta['fname'])\n",
        "        n_files = len(file_names)\n",
        "        labels = list(meta['label'])\n",
        "\n",
        "        uniq_labels = np.sort(np.unique(labels))\n",
        "        label_to_id = {label: i for i, label in enumerate(uniq_labels)}\n",
        "\n",
        "        print('Total files:', n_files)\n",
        "\n",
        "        for i, (file_name, label) in tqdm(enumerate(zip(file_names, labels))):\n",
        "            wav_data, sr = librosa.load(os.path.join(path_to_files, file_name), sr=sr)\n",
        "            mel_spec = F.melspectrogram(\n",
        "                y=wav_data,\n",
        "                n_fft=n_fft,\n",
        "                hop_length=hop_length,\n",
        "                n_mels=n_mels,\n",
        "                fmax=sr // 2\n",
        "            )\n",
        "            log_mel_spec = librosa.power_to_db(mel_spec, ref=np.max)\n",
        "            feats.append({\n",
        "                'fname': file_name,\n",
        "                'feature': log_mel_spec,\n",
        "                'label_id': label_to_id[label]\n",
        "            })\n",
        "\n",
        "        pickle.dump(feats, open(out_path, 'wb'))\n",
        "        pickle.dump(label_to_id, open(labels_pickle, 'wb'))\n",
        "        return label_to_id\n",
        "    else:\n",
        "        for i, file_name in tqdm(enumerate(os.listdir(path_to_files))):\n",
        "            wav_data, sr = librosa.load(os.path.join(path_to_files, file_name), sr=sr)\n",
        "            if len(wav_data) == 0:\n",
        "                wav_data = np.zeros(sr)\n",
        "            mel_spec = F.melspectrogram(\n",
        "                y=wav_data,\n",
        "                n_fft=n_fft,\n",
        "                hop_length=hop_length,\n",
        "                n_mels=n_mels,\n",
        "                fmax=sr // 2\n",
        "            )\n",
        "            log_mel_spec = librosa.power_to_db(mel_spec, ref=np.max)\n",
        "            feats.append({\n",
        "                'fname': file_name,\n",
        "                'feature': log_mel_spec,\n",
        "            })\n",
        "\n",
        "        pickle.dump(feats, open(out_path, 'wb'))\n",
        "        return"
      ],
      "metadata": {
        "id": "sSfsP7XDNQoJ"
      },
      "execution_count": 144,
      "outputs": []
    },
    {
      "cell_type": "markdown",
      "source": [
        "**Параметры извлечения признаков**"
      ],
      "metadata": {
        "id": "Qx5qoTBrJC3O"
      }
    },
    {
      "cell_type": "code",
      "source": [
        "sample_rate = 16000\n",
        "n_fft = 1024\n",
        "overlap = 4\n",
        "hop_length = n_fft // overlap\n",
        "n_mels = 128"
      ],
      "metadata": {
        "id": "HUhUkeSuNTrY"
      },
      "execution_count": 145,
      "outputs": []
    },
    {
      "cell_type": "markdown",
      "source": [
        "**Извлечение и сохранение признаков**"
      ],
      "metadata": {
        "id": "f8ZEJapJJkWW"
      }
    },
    {
      "cell_type": "code",
      "source": [
        "# label_to_id = extract_log_mel_feats(\n",
        "#     SetType.TRAIN,\n",
        "#     train_csv, \n",
        "#     train_folder, \n",
        "#     train_pickle,\n",
        "#     labels_pickle,\n",
        "#     sample_rate, \n",
        "#     n_fft, \n",
        "#     hop_length, \n",
        "#     n_mels\n",
        "# )\n",
        "\n",
        "# id_to_label = [label for label, i in label_to_id.items()]"
      ],
      "metadata": {
        "id": "5LZUVqa6NVHG"
      },
      "execution_count": 146,
      "outputs": []
    },
    {
      "cell_type": "markdown",
      "source": [
        "## Алгоритм детектирования"
      ],
      "metadata": {
        "id": "G7hM0fytLyvl"
      }
    },
    {
      "cell_type": "markdown",
      "source": [
        "### Подготовительный этап"
      ],
      "metadata": {
        "id": "jhkEneSAL2Vw"
      }
    },
    {
      "cell_type": "code",
      "source": [
        "from typing import NoReturn\n",
        "from pprint import pprint\n",
        "import copy\n",
        "import random\n",
        "import numpy as np\n",
        "import torch\n",
        "import torch.nn as nn\n",
        "import torch.nn.functional as F\n",
        "import torch.optim as optim\n",
        "from torch.utils.data import Dataset\n",
        "from torch.utils.data import DataLoader\n",
        "import time\n",
        "from sklearn.metrics import accuracy_score"
      ],
      "metadata": {
        "id": "VKXX4RXLN67X"
      },
      "execution_count": 147,
      "outputs": []
    },
    {
      "cell_type": "code",
      "source": [
        "device = device = \"cuda\" if torch.cuda.is_available() else \"cpu\"\n",
        "device"
      ],
      "metadata": {
        "colab": {
          "base_uri": "https://localhost:8080/",
          "height": 36
        },
        "id": "mnKr7KS2N905",
        "outputId": "e7d7c9ed-434b-4c83-f6da-5ed6c13b6110"
      },
      "execution_count": 148,
      "outputs": [
        {
          "output_type": "execute_result",
          "data": {
            "text/plain": [
              "'cuda'"
            ],
            "application/vnd.google.colaboratory.intrinsic+json": {
              "type": "string"
            }
          },
          "metadata": {},
          "execution_count": 148
        }
      ]
    },
    {
      "cell_type": "code",
      "source": [
        "cpu_count = os.cpu_count()\n",
        "num_workers = cpu_count if device == \"cpu\" else 0\n",
        "num_workers, cpu_count"
      ],
      "metadata": {
        "colab": {
          "base_uri": "https://localhost:8080/"
        },
        "id": "egmDb7zeOADG",
        "outputId": "f8dac2e4-f22a-49e5-af2a-5ebfe998ec70"
      },
      "execution_count": 149,
      "outputs": [
        {
          "output_type": "execute_result",
          "data": {
            "text/plain": [
              "(0, 2)"
            ]
          },
          "metadata": {},
          "execution_count": 149
        }
      ]
    },
    {
      "cell_type": "markdown",
      "source": [
        "**Добиваемся максимальной воспроизводимости**\n",
        "\n",
        "Согласно данному мануалу: https://pytorch.org/docs/stable/notes/randomness.html"
      ],
      "metadata": {
        "id": "kGla0c9uL6ae"
      }
    },
    {
      "cell_type": "code",
      "source": [
        "def set_random_state(random_state:int=0) -> NoReturn:\n",
        "    \"\"\"Initialize random generators.\n",
        "\n",
        "    Parameters\n",
        "    ==========\n",
        "    random_state : int = 0\n",
        "        Determines random number generation for centroid initialization.\n",
        "        Use an int to make the randomness deterministic.\n",
        "    \"\"\"\n",
        "    torch.manual_seed(random_state)\n",
        "    random.seed(random_state)\n",
        "    np.random.seed(random_state)\n",
        "\n",
        "    if torch.cuda.is_available():\n",
        "        torch.cuda.manual_seed_all(random_state)\n",
        "        torch.cuda.manual_seed(random_state)\n",
        "\n",
        "        torch.backends.cudnn.deterministic = True\n",
        "        torch.backends.cudnn.benchmark = False"
      ],
      "metadata": {
        "id": "pUDIoHP-N9K1"
      },
      "execution_count": 150,
      "outputs": []
    },
    {
      "cell_type": "code",
      "source": [
        "random_state = 42"
      ],
      "metadata": {
        "id": "JllzAH0UODef"
      },
      "execution_count": 151,
      "outputs": []
    },
    {
      "cell_type": "code",
      "source": [
        "torch.use_deterministic_algorithms(True)"
      ],
      "metadata": {
        "id": "xoN_piGrOE4C"
      },
      "execution_count": 152,
      "outputs": []
    },
    {
      "cell_type": "code",
      "source": [
        "%env CUBLAS_WORKSPACE_CONFIG=:4096:8\n",
        "%env PYTHONHASHSEED=42"
      ],
      "metadata": {
        "colab": {
          "base_uri": "https://localhost:8080/"
        },
        "id": "Kx400hR4OKKu",
        "outputId": "131afd59-d848-4ae5-b57b-b3e8444db3ff"
      },
      "execution_count": 153,
      "outputs": [
        {
          "output_type": "stream",
          "name": "stdout",
          "text": [
            "env: CUBLAS_WORKSPACE_CONFIG=:4096:8\n",
            "env: PYTHONHASHSEED=42\n"
          ]
        }
      ]
    },
    {
      "cell_type": "markdown",
      "source": [
        "### Архитектура нейронной сети"
      ],
      "metadata": {
        "id": "GVLqqFUEL-Om"
      }
    },
    {
      "cell_type": "code",
      "source": [
        "class DummyNetwork(nn.Module):\n",
        "    \"\"\"Neural network base architecture\"\"\"\n",
        "    def __init__(self):\n",
        "        super().__init__()\n",
        "\n",
        "        self.conv1 = nn.Conv2d(in_channels=1,  out_channels=64, kernel_size=5, stride=(2, 2), device=device)\n",
        "        self.conv2 = nn.Conv2d(in_channels=64, out_channels=96, kernel_size=3, stride=(1, 1), device=device)\n",
        "        self.conv3 = nn.Conv2d(in_channels=96, out_channels=64, kernel_size=3, stride=(1, 1), device=device)\n",
        "\n",
        "        self.mp = nn.MaxPool2d(kernel_size=(2, 2), stride=(1, 1))\n",
        "        \n",
        "        self.dropout1 = nn.Dropout(p=0.3)\n",
        "        self.dropout2 = nn.Dropout(p=0.3)\n",
        "        self.dropout3 = nn.Dropout(p=0.3)\n",
        "        self.dropout4 = nn.Dropout(p=0.3)\n",
        "        \n",
        "        self.bn1 = nn.BatchNorm2d(num_features=64, device=device)\n",
        "        self.bn2 = nn.BatchNorm2d(num_features=96, device=device)\n",
        "        self.bn3 = nn.BatchNorm2d(num_features=64, device=device)\n",
        "        self.bn4 = nn.BatchNorm1d(num_features=2048, device=device)\n",
        "\n",
        "        self.flat = nn.Flatten()\n",
        "\n",
        "        # 33856 - должно соответствовать форме self.flat\n",
        "        self.fc1 = nn.Linear(193600, 2048, device=device)\n",
        "        self.fc2 = nn.Linear(2048, 41, device=device)\n",
        "\n",
        "    def forward(self, x):\n",
        "        x = self.conv1(x)\n",
        "        x = self.bn1(x)\n",
        "        x = F.relu(x)\n",
        "        x = self.mp(x)\n",
        "        x = self.dropout1(x)\n",
        "\n",
        "        x = self.conv2(x)\n",
        "        x = self.bn2(x)\n",
        "        x = F.relu(x)\n",
        "        x = self.mp(x)\n",
        "        x = self.dropout2(x)\n",
        "\n",
        "        x = self.conv3(x)\n",
        "        x = self.bn3(x)\n",
        "        x = F.relu(x)\n",
        "        x = self.mp(x)\n",
        "        x = self.dropout3(x)\n",
        "\n",
        "        x = self.flat(x)\n",
        "\n",
        "        # здесь можно еще добавить полносвязный слой или слои\n",
        "        x = self.fc1(x)\n",
        "        x = self.bn4(x)\n",
        "        x = self.dropout4(x)\n",
        "\n",
        "        x = self.fc2(x)\n",
        "\n",
        "        return x"
      ],
      "metadata": {
        "id": "RGEYgY-DOLzy"
      },
      "execution_count": 154,
      "outputs": []
    },
    {
      "cell_type": "markdown",
      "source": [
        "### Обучение нейронной сети"
      ],
      "metadata": {
        "id": "Dpx7zNXiME9D"
      }
    },
    {
      "cell_type": "markdown",
      "source": [
        "**Загрузка ранее извлеченных признаков и подготовка данных для обучения**"
      ],
      "metadata": {
        "id": "fhOYxWNGMHPp"
      }
    },
    {
      "cell_type": "code",
      "source": [
        "train_data = pickle.load(open(train_pickle, \"rb\"))\n",
        "label_to_id = pickle.load(open(labels_pickle, \"rb\"))\n",
        "id_to_label = [label for label, i in label_to_id.items()]"
      ],
      "metadata": {
        "id": "ZFxJiN-mOYcw"
      },
      "execution_count": 155,
      "outputs": []
    },
    {
      "cell_type": "markdown",
      "source": [
        "**Разделение набора данных на обучение и проверку**"
      ],
      "metadata": {
        "id": "NC_gqokJ3mLi"
      }
    },
    {
      "cell_type": "code",
      "source": [
        "validation_set_size = 400\n",
        "\n",
        "x_val = []\n",
        "y_val = []\n",
        "\n",
        "x_tr = []\n",
        "y_tr = []\n",
        "\n",
        "for i, row in enumerate(train_data):\n",
        "    feature = row['feature']\n",
        "    if i < validation_set_size:\n",
        "        x_val.append(feature)\n",
        "        y_val.append(row['label_id'])\n",
        "    else:\n",
        "        x_tr.append(feature)\n",
        "        y_tr.append(row['label_id'])"
      ],
      "metadata": {
        "id": "Kiw-v-HlObF4"
      },
      "execution_count": 156,
      "outputs": []
    },
    {
      "cell_type": "markdown",
      "source": [
        "**Создание класса для набора данных**"
      ],
      "metadata": {
        "id": "98IMmDyl4BKQ"
      }
    },
    {
      "cell_type": "code",
      "source": [
        "class EventDetectionDataset(Dataset):\n",
        "    def __init__(self, x, y=None, device=\"cpu\"):\n",
        "        self.x = x\n",
        "        self.y = y\n",
        "\n",
        "    def __len__(self):\n",
        "        return len(self.x)\n",
        "\n",
        "    def __getitem__(self, idx):\n",
        "        x = self.prepare_shape(self.x[idx])\n",
        "        if self.y is not None:\n",
        "            return \\\n",
        "                torch.tensor(x, device=device),\\\n",
        "                torch.tensor(self.y[idx], device=device)\n",
        "\n",
        "        return torch.tensor(x, device=device)\n",
        "    def prepare_shape(self, feature_):\n",
        "        N = 128\n",
        "        feature = copy.deepcopy(feature_)\n",
        "        if feature.shape[1] >= N:\n",
        "            start_idx = np.random.randint(0, feature.shape[1] - N + 1)\n",
        "            feature = feature[:, start_idx:start_idx + N]\n",
        "        else:\n",
        "            while feature.shape[1] < N:\n",
        "                feature = np.hstack((feature, feature))\n",
        "            feature = feature[:, :N]\n",
        "        return feature[np.newaxis, :, :]"
      ],
      "metadata": {
        "id": "MmLSMNoqOf1J"
      },
      "execution_count": 157,
      "outputs": []
    },
    {
      "cell_type": "code",
      "source": [
        "train_dset = EventDetectionDataset(x_tr, y_tr, device=device)\n",
        "val_dset = EventDetectionDataset(x_val, y_val, device=device)"
      ],
      "metadata": {
        "id": "VdmZoQgEOg_o"
      },
      "execution_count": 158,
      "outputs": []
    },
    {
      "cell_type": "code",
      "source": [
        "train_loader = DataLoader(train_dset, batch_size=41, shuffle=True, num_workers=num_workers)\n",
        "val_loader = DataLoader(val_dset, batch_size=41, shuffle=False, num_workers=num_workers)"
      ],
      "metadata": {
        "id": "cnLwTk8JOtMC"
      },
      "execution_count": 160,
      "outputs": []
    },
    {
      "cell_type": "markdown",
      "source": [
        "**Обучение и проверка точности на наборе данных**"
      ],
      "metadata": {
        "id": "QnKbeOff4K9F"
      }
    },
    {
      "cell_type": "code",
      "source": [
        "start_time = time.time()\n",
        "\n",
        "n_epoch = 50\n",
        "\n",
        "set_random_state(random_state)\n",
        "\n",
        "criterion = nn.CrossEntropyLoss()\n",
        "network = DummyNetwork()\n",
        "\n",
        "# можно попробовать другой optimizer, тоже считается улучшением\n",
        "optimizer = optim.Adam(network.parameters(), lr=0.001)\n",
        "\n",
        "train_loss = []\n",
        "val_loss = []\n",
        "\n",
        "train_acc = []\n",
        "val_acc = []\n",
        "\n",
        "for e in range(n_epoch):\n",
        "    print(f'epoch #{e+1}')\n",
        "\n",
        "    # train\n",
        "    loss_list = []\n",
        "    outputs = []\n",
        "    targets = []\n",
        "    for i_batch, sample_batched in enumerate(train_loader):\n",
        "        x, y = sample_batched\n",
        "        optimizer.zero_grad()\n",
        "\n",
        "        output = network(x)\n",
        "        outputs.append(output.argmax(axis=1))\n",
        "\n",
        "        target = y\n",
        "        targets.append(target)\n",
        "\n",
        "        loss = criterion(output, target.long())\n",
        "        loss_list.append(loss.item())\n",
        "        loss.backward()\n",
        "        optimizer.step()\n",
        "\n",
        "    y_true = torch.hstack(targets).numpy(force=True)\n",
        "    y_pred = torch.hstack(outputs).numpy(force=True)\n",
        "    acc = accuracy_score(y_true, y_pred)\n",
        "\n",
        "    train_loss.append(np.mean(loss_list))\n",
        "    train_acc.append(acc)\n",
        "\n",
        "    print(f'[train] mean loss: {train_loss[-1]}')\n",
        "    print(f'[train] accuracy:  {acc}')\n",
        "\n",
        "    loss_list = []\n",
        "    outputs = []\n",
        "    targets = []\n",
        "    with torch.no_grad():\n",
        "        for i_batch, sample_batched in enumerate(val_loader):\n",
        "            x, y = sample_batched\n",
        "            #optimizer.zero_grad()\n",
        "\n",
        "            output = network(x)\n",
        "            outputs.append(output.argmax(axis=1))\n",
        "\n",
        "            target = y\n",
        "            targets.append(target)\n",
        "\n",
        "            loss = criterion(output, target.long())\n",
        "            loss_list.append(loss.item())\n",
        "\n",
        "        y_true = torch.hstack(targets).numpy(force=True)\n",
        "        y_pred = torch.hstack(outputs).numpy(force=True)\n",
        "        acc = accuracy_score(y_true, y_pred)\n",
        "\n",
        "        val_loss.append(np.mean(loss_list))\n",
        "        val_acc.append(acc)\n",
        "        \n",
        "        print(f'[val] mean loss:   {val_loss[-1]}')\n",
        "        print(f'[val] accuracy:    {acc}', end=\"\\n\\n\")\n",
        "\n",
        "print(f\"Execution time: {(time.time() - start_time):.2f} seconds\")"
      ],
      "metadata": {
        "colab": {
          "base_uri": "https://localhost:8080/"
        },
        "id": "mVSJNE1COwBC",
        "outputId": "2fb0a84e-1c3e-427e-a5b3-9337d46c5d24"
      },
      "execution_count": 161,
      "outputs": [
        {
          "output_type": "stream",
          "name": "stdout",
          "text": [
            "epoch #1\n",
            "[train] mean loss: 3.326466216597446\n",
            "[train] accuracy:  0.18057921635434412\n",
            "[val] mean loss:   2.8183993220329286\n",
            "[val] accuracy:    0.255\n",
            "\n",
            "epoch #2\n",
            "[train] mean loss: 2.5598703779915506\n",
            "[train] accuracy:  0.35188339958356996\n",
            "[val] mean loss:   2.2746012210845947\n",
            "[val] accuracy:    0.365\n",
            "\n",
            "epoch #3\n",
            "[train] mean loss: 2.190021827239399\n",
            "[train] accuracy:  0.4272193829263676\n",
            "[val] mean loss:   2.012108933925629\n",
            "[val] accuracy:    0.455\n",
            "\n",
            "epoch #4\n",
            "[train] mean loss: 1.991761711216712\n",
            "[train] accuracy:  0.47832670830967255\n",
            "[val] mean loss:   1.9151445508003235\n",
            "[val] accuracy:    0.49\n",
            "\n",
            "epoch #5\n",
            "[train] mean loss: 1.8237345652986867\n",
            "[train] accuracy:  0.5209161461290933\n",
            "[val] mean loss:   1.8970692038536072\n",
            "[val] accuracy:    0.54\n",
            "\n",
            "epoch #6\n",
            "[train] mean loss: 1.6500400960907455\n",
            "[train] accuracy:  0.5595305697520349\n",
            "[val] mean loss:   1.86907217502594\n",
            "[val] accuracy:    0.4975\n",
            "\n",
            "epoch #7\n",
            "[train] mean loss: 1.562042285305585\n",
            "[train] accuracy:  0.5911413969335605\n",
            "[val] mean loss:   1.7437681078910827\n",
            "[val] accuracy:    0.515\n",
            "\n",
            "epoch #8\n",
            "[train] mean loss: 1.445185126722321\n",
            "[train] accuracy:  0.6132879045996593\n",
            "[val] mean loss:   1.8022939801216125\n",
            "[val] accuracy:    0.51\n",
            "\n",
            "epoch #9\n",
            "[train] mean loss: 1.3714017364405846\n",
            "[train] accuracy:  0.6384629945106947\n",
            "[val] mean loss:   1.7543375968933106\n",
            "[val] accuracy:    0.575\n",
            "\n",
            "epoch #10\n",
            "[train] mean loss: 1.3051974782648013\n",
            "[train] accuracy:  0.6511451826613667\n",
            "[val] mean loss:   1.8425095081329346\n",
            "[val] accuracy:    0.545\n",
            "\n",
            "epoch #11\n",
            "[train] mean loss: 1.2649598962576813\n",
            "[train] accuracy:  0.6556880560287716\n",
            "[val] mean loss:   1.5950378060340882\n",
            "[val] accuracy:    0.5775\n",
            "\n",
            "epoch #12\n",
            "[train] mean loss: 1.1842122743296069\n",
            "[train] accuracy:  0.6785917092561045\n",
            "[val] mean loss:   1.825384545326233\n",
            "[val] accuracy:    0.5475\n",
            "\n",
            "epoch #13\n",
            "[train] mean loss: 1.14242964844371\n",
            "[train] accuracy:  0.696384629945107\n",
            "[val] mean loss:   1.6506219625473022\n",
            "[val] accuracy:    0.575\n",
            "\n",
            "epoch #14\n",
            "[train] mean loss: 1.0990725427634955\n",
            "[train] accuracy:  0.7054703766799167\n",
            "[val] mean loss:   1.6413352012634277\n",
            "[val] accuracy:    0.555\n",
            "\n",
            "epoch #15\n",
            "[train] mean loss: 1.0632505403008572\n",
            "[train] accuracy:  0.7143668370244179\n",
            "[val] mean loss:   1.589225995540619\n",
            "[val] accuracy:    0.575\n",
            "\n",
            "epoch #16\n",
            "[train] mean loss: 0.9915412532728772\n",
            "[train] accuracy:  0.7279954571266326\n",
            "[val] mean loss:   1.786852777004242\n",
            "[val] accuracy:    0.565\n",
            "\n",
            "epoch #17\n",
            "[train] mean loss: 0.9839089196319728\n",
            "[train] accuracy:  0.7406776452773045\n",
            "[val] mean loss:   1.8444589257240296\n",
            "[val] accuracy:    0.575\n",
            "\n",
            "epoch #18\n",
            "[train] mean loss: 0.9321854414865952\n",
            "[train] accuracy:  0.7522241150861253\n",
            "[val] mean loss:   1.6029168665409088\n",
            "[val] accuracy:    0.615\n",
            "\n",
            "epoch #19\n",
            "[train] mean loss: 0.9267439745193304\n",
            "[train] accuracy:  0.7524134014764339\n",
            "[val] mean loss:   1.8768700897693633\n",
            "[val] accuracy:    0.57\n",
            "\n",
            "epoch #20\n",
            "[train] mean loss: 0.8891814847787222\n",
            "[train] accuracy:  0.7561991292826046\n",
            "[val] mean loss:   1.6477580189704895\n",
            "[val] accuracy:    0.5975\n",
            "\n",
            "epoch #21\n",
            "[train] mean loss: 0.8523231516050738\n",
            "[train] accuracy:  0.7738027635812985\n",
            "[val] mean loss:   1.7530595660209656\n",
            "[val] accuracy:    0.56\n",
            "\n",
            "epoch #22\n",
            "[train] mean loss: 0.8495625412279322\n",
            "[train] accuracy:  0.771152754116979\n",
            "[val] mean loss:   1.8694835543632506\n",
            "[val] accuracy:    0.5875\n",
            "\n",
            "epoch #23\n",
            "[train] mean loss: 0.8198609238909197\n",
            "[train] accuracy:  0.7787242097293204\n",
            "[val] mean loss:   1.8365044116973877\n",
            "[val] accuracy:    0.58\n",
            "\n",
            "epoch #24\n",
            "[train] mean loss: 0.8232908951219662\n",
            "[train] accuracy:  0.7791027825099376\n",
            "[val] mean loss:   1.820465588569641\n",
            "[val] accuracy:    0.565\n",
            "\n",
            "epoch #25\n",
            "[train] mean loss: 0.7779389430386151\n",
            "[train] accuracy:  0.7874313836835132\n",
            "[val] mean loss:   1.795320749282837\n",
            "[val] accuracy:    0.6125\n",
            "\n",
            "epoch #26\n",
            "[train] mean loss: 0.7950313234514044\n",
            "[train] accuracy:  0.7825099375354913\n",
            "[val] mean loss:   1.7873778760433197\n",
            "[val] accuracy:    0.5975\n",
            "\n",
            "epoch #27\n",
            "[train] mean loss: 0.767021729502567\n",
            "[train] accuracy:  0.7900813931478327\n",
            "[val] mean loss:   1.716632318496704\n",
            "[val] accuracy:    0.605\n",
            "\n",
            "epoch #28\n",
            "[train] mean loss: 0.7321826591510181\n",
            "[train] accuracy:  0.7970849895892486\n",
            "[val] mean loss:   1.7842193722724915\n",
            "[val] accuracy:    0.59\n",
            "\n",
            "epoch #29\n",
            "[train] mean loss: 0.6930951336326525\n",
            "[train] accuracy:  0.8109028960817717\n",
            "[val] mean loss:   1.6857123732566834\n",
            "[val] accuracy:    0.6\n",
            "\n",
            "epoch #30\n",
            "[train] mean loss: 0.713644113420516\n",
            "[train] accuracy:  0.8078743138368352\n",
            "[val] mean loss:   1.695728838443756\n",
            "[val] accuracy:    0.5875\n",
            "\n",
            "epoch #31\n",
            "[train] mean loss: 0.7085357054259426\n",
            "[train] accuracy:  0.8038992996403559\n",
            "[val] mean loss:   1.7735639452934264\n",
            "[val] accuracy:    0.5975\n",
            "\n",
            "epoch #32\n",
            "[train] mean loss: 0.7043755368668904\n",
            "[train] accuracy:  0.806738595494984\n",
            "[val] mean loss:   1.7617763578891754\n",
            "[val] accuracy:    0.605\n",
            "\n",
            "epoch #33\n",
            "[train] mean loss: 0.692979979769204\n",
            "[train] accuracy:  0.8080636002271436\n",
            "[val] mean loss:   1.8381928563117982\n",
            "[val] accuracy:    0.5575\n",
            "\n",
            "epoch #34\n",
            "[train] mean loss: 0.6361502223005591\n",
            "[train] accuracy:  0.8249100889646035\n",
            "[val] mean loss:   1.9199900031089783\n",
            "[val] accuracy:    0.595\n",
            "\n",
            "epoch #35\n",
            "[train] mean loss: 0.616243930750115\n",
            "[train] accuracy:  0.8341851220897217\n",
            "[val] mean loss:   1.7189773797988892\n",
            "[val] accuracy:    0.625\n",
            "\n",
            "epoch #36\n",
            "[train] mean loss: 0.5968425209208053\n",
            "[train] accuracy:  0.8404315729699035\n",
            "[val] mean loss:   1.9034099459648133\n",
            "[val] accuracy:    0.595\n",
            "\n",
            "epoch #37\n",
            "[train] mean loss: 0.6314960052800733\n",
            "[train] accuracy:  0.8230172250615181\n",
            "[val] mean loss:   1.6640966176986693\n",
            "[val] accuracy:    0.6375\n",
            "\n",
            "epoch #38\n",
            "[train] mean loss: 0.6007411138031834\n",
            "[train] accuracy:  0.82793867120954\n",
            "[val] mean loss:   1.9357410073280334\n",
            "[val] accuracy:    0.6125\n",
            "\n",
            "epoch #39\n",
            "[train] mean loss: 0.6045748626076898\n",
            "[train] accuracy:  0.8285065303804656\n",
            "[val] mean loss:   1.8719074726104736\n",
            "[val] accuracy:    0.595\n",
            "\n",
            "epoch #40\n",
            "[train] mean loss: 0.571782961603283\n",
            "[train] accuracy:  0.8411887185311376\n",
            "[val] mean loss:   1.8977142930030824\n",
            "[val] accuracy:    0.625\n",
            "\n",
            "epoch #41\n",
            "[train] mean loss: 0.5635093368532121\n",
            "[train] accuracy:  0.8379708498958924\n",
            "[val] mean loss:   1.8501997590065002\n",
            "[val] accuracy:    0.6225\n",
            "\n",
            "epoch #42\n",
            "[train] mean loss: 0.5601682066339855\n",
            "[train] accuracy:  0.8481923149725534\n",
            "[val] mean loss:   1.7740098536014557\n",
            "[val] accuracy:    0.605\n",
            "\n",
            "epoch #43\n",
            "[train] mean loss: 0.5767049382823383\n",
            "[train] accuracy:  0.8409994321408291\n",
            "[val] mean loss:   1.720481377840042\n",
            "[val] accuracy:    0.6275\n",
            "\n",
            "epoch #44\n",
            "[train] mean loss: 0.5845079370016275\n",
            "[train] accuracy:  0.8362672723831156\n",
            "[val] mean loss:   1.9655044436454774\n",
            "[val] accuracy:    0.6\n",
            "\n",
            "epoch #45\n",
            "[train] mean loss: 0.5341201789619386\n",
            "[train] accuracy:  0.8500851788756388\n",
            "[val] mean loss:   2.0900233387947083\n",
            "[val] accuracy:    0.5875\n",
            "\n",
            "epoch #46\n",
            "[train] mean loss: 0.5380125964681307\n",
            "[train] accuracy:  0.8493280333144047\n",
            "[val] mean loss:   1.8920471787452697\n",
            "[val] accuracy:    0.6325\n",
            "\n",
            "epoch #47\n",
            "[train] mean loss: 0.5387106004149415\n",
            "[train] accuracy:  0.848003028582245\n",
            "[val] mean loss:   1.9261668086051942\n",
            "[val] accuracy:    0.6075\n",
            "\n",
            "epoch #48\n",
            "[train] mean loss: 0.5169090566247009\n",
            "[train] accuracy:  0.8559530569752035\n",
            "[val] mean loss:   1.8796611547470092\n",
            "[val] accuracy:    0.5975\n",
            "\n",
            "epoch #49\n",
            "[train] mean loss: 0.5130417008501614\n",
            "[train] accuracy:  0.8563316297558206\n",
            "[val] mean loss:   1.8873951196670533\n",
            "[val] accuracy:    0.605\n",
            "\n",
            "epoch #50\n",
            "[train] mean loss: 0.4756509074291518\n",
            "[train] accuracy:  0.861063789513534\n",
            "[val] mean loss:   1.7934412717819215\n",
            "[val] accuracy:    0.62\n",
            "\n",
            "Execution time: 1745.84 seconds\n"
          ]
        }
      ]
    },
    {
      "cell_type": "markdown",
      "source": [
        "**Визуализация процесса обучения сети**"
      ],
      "metadata": {
        "id": "emjiizwr4XHl"
      }
    },
    {
      "cell_type": "code",
      "source": [
        "epochs = range(1, n_epoch+1)\n",
        "\n",
        "fig, (ax_top, ax_bottom) = plt.subplots(nrows=2, ncols=1, figsize=(10, 10), sharex=True)\n",
        "\n",
        "xticks = range(1, n_epoch+1, n_epoch // 10) if n_epoch > 10 else epochs\n",
        "\n",
        "# draw loss\n",
        "ax_top.plot(epochs, train_loss, 'r', label='train')\n",
        "ax_top.plot(epochs, val_loss, 'b', label='validation')\n",
        "\n",
        "ax_top.set(\n",
        "    title='Loss',\n",
        "    xlabel='Epoch number',\n",
        "    ylabel='Loss value',\n",
        "    ylim=[0, max(max(train_loss), max(val_loss)) + 1],\n",
        ")\n",
        "ax_top.legend(\n",
        "    title=\"Выборка\",\n",
        ")\n",
        "ax_top.grid()\n",
        "\n",
        "# draw accuracy\n",
        "ax_bottom.plot(epochs, train_acc, 'r', label='train')\n",
        "ax_bottom.plot(epochs, val_acc, 'b', label='validation')\n",
        "\n",
        "ax_bottom.set(\n",
        "    title='Accuracy',\n",
        "    xlabel='Epoch number',\n",
        "    ylabel='Accuracy value',\n",
        "    xticks=xticks,\n",
        "    ylim=[0, 1],\n",
        ")\n",
        "ax_bottom.legend(\n",
        "    title=\"Выборка\",\n",
        ")\n",
        "ax_bottom.grid()\n",
        "\n",
        "fig.suptitle(\"Кривые обучения\")\n",
        "\n",
        "plt.show()"
      ],
      "metadata": {
        "colab": {
          "base_uri": "https://localhost:8080/",
          "height": 677
        },
        "id": "8aVQrY7yOxgb",
        "outputId": "b469f812-82b4-4100-f098-a13986b7aa4d"
      },
      "execution_count": 162,
      "outputs": [
        {
          "output_type": "display_data",
          "data": {
            "text/plain": [
              "<Figure size 720x720 with 2 Axes>"
            ],
            "image/png": "[encoded data removed]"
          },
          "metadata": {
            "needs_background": "light"
          }
        }
      ]
    },
    {
      "cell_type": "code",
      "source": [],
      "metadata": {
        "id": "q4h5R6RYOy26"
      },
      "execution_count": 162,
      "outputs": []
    }
  ]
}